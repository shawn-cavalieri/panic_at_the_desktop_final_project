{
 "cells": [
  {
   "cell_type": "code",
   "execution_count": 1,
   "metadata": {},
   "outputs": [
    {
     "data": {
      "text/html": [
       "<div>\n",
       "<style scoped>\n",
       "    .dataframe tbody tr th:only-of-type {\n",
       "        vertical-align: middle;\n",
       "    }\n",
       "\n",
       "    .dataframe tbody tr th {\n",
       "        vertical-align: top;\n",
       "    }\n",
       "\n",
       "    .dataframe thead th {\n",
       "        text-align: right;\n",
       "    }\n",
       "</style>\n",
       "<table border=\"1\" class=\"dataframe\">\n",
       "  <thead>\n",
       "    <tr style=\"text-align: right;\">\n",
       "      <th></th>\n",
       "      <th>High</th>\n",
       "      <th>Low</th>\n",
       "      <th>Open</th>\n",
       "      <th>Close</th>\n",
       "      <th>Volume</th>\n",
       "      <th>Adj Close</th>\n",
       "    </tr>\n",
       "    <tr>\n",
       "      <th>Date</th>\n",
       "      <th></th>\n",
       "      <th></th>\n",
       "      <th></th>\n",
       "      <th></th>\n",
       "      <th></th>\n",
       "      <th></th>\n",
       "    </tr>\n",
       "  </thead>\n",
       "  <tbody>\n",
       "    <tr>\n",
       "      <th>2020-04-27</th>\n",
       "      <td>284.540009</td>\n",
       "      <td>279.950012</td>\n",
       "      <td>281.799988</td>\n",
       "      <td>283.170013</td>\n",
       "      <td>29271900.0</td>\n",
       "      <td>283.170013</td>\n",
       "    </tr>\n",
       "    <tr>\n",
       "      <th>2020-04-28</th>\n",
       "      <td>285.829987</td>\n",
       "      <td>278.200012</td>\n",
       "      <td>285.079987</td>\n",
       "      <td>278.579987</td>\n",
       "      <td>28001200.0</td>\n",
       "      <td>278.579987</td>\n",
       "    </tr>\n",
       "    <tr>\n",
       "      <th>2020-04-29</th>\n",
       "      <td>289.670013</td>\n",
       "      <td>283.890015</td>\n",
       "      <td>284.730011</td>\n",
       "      <td>287.730011</td>\n",
       "      <td>34320200.0</td>\n",
       "      <td>287.730011</td>\n",
       "    </tr>\n",
       "    <tr>\n",
       "      <th>2020-04-30</th>\n",
       "      <td>294.529999</td>\n",
       "      <td>288.350006</td>\n",
       "      <td>289.959991</td>\n",
       "      <td>293.799988</td>\n",
       "      <td>45766000.0</td>\n",
       "      <td>293.799988</td>\n",
       "    </tr>\n",
       "    <tr>\n",
       "      <th>2020-05-01</th>\n",
       "      <td>299.000000</td>\n",
       "      <td>285.850006</td>\n",
       "      <td>286.250000</td>\n",
       "      <td>289.070007</td>\n",
       "      <td>60095200.0</td>\n",
       "      <td>289.070007</td>\n",
       "    </tr>\n",
       "  </tbody>\n",
       "</table>\n",
       "</div>"
      ],
      "text/plain": [
       "                  High         Low        Open       Close      Volume  \\\n",
       "Date                                                                     \n",
       "2020-04-27  284.540009  279.950012  281.799988  283.170013  29271900.0   \n",
       "2020-04-28  285.829987  278.200012  285.079987  278.579987  28001200.0   \n",
       "2020-04-29  289.670013  283.890015  284.730011  287.730011  34320200.0   \n",
       "2020-04-30  294.529999  288.350006  289.959991  293.799988  45766000.0   \n",
       "2020-05-01  299.000000  285.850006  286.250000  289.070007  60095200.0   \n",
       "\n",
       "             Adj Close  \n",
       "Date                    \n",
       "2020-04-27  283.170013  \n",
       "2020-04-28  278.579987  \n",
       "2020-04-29  287.730011  \n",
       "2020-04-30  293.799988  \n",
       "2020-05-01  289.070007  "
      ]
     },
     "execution_count": 1,
     "metadata": {},
     "output_type": "execute_result"
    }
   ],
   "source": [
    "import pandas as pd\n",
    "import datetime\n",
    "import numpy as np\n",
    "import pandas_datareader.data as web\n",
    "from pandas import Series, DataFrame\n",
    "\n",
    "\n",
    "start = datetime.datetime(2020, 1, 1)\n",
    "end = datetime.datetime(2020, 5, 1)\n",
    "\n",
    "df = web.DataReader(\"AAPL\", 'yahoo', start, end)\n",
    "df.tail()"
   ]
  },
  {
   "cell_type": "code",
   "execution_count": 2,
   "metadata": {},
   "outputs": [
    {
     "data": {
      "text/html": [
       "<div>\n",
       "<style scoped>\n",
       "    .dataframe tbody tr th:only-of-type {\n",
       "        vertical-align: middle;\n",
       "    }\n",
       "\n",
       "    .dataframe tbody tr th {\n",
       "        vertical-align: top;\n",
       "    }\n",
       "\n",
       "    .dataframe thead th {\n",
       "        text-align: right;\n",
       "    }\n",
       "</style>\n",
       "<table border=\"1\" class=\"dataframe\">\n",
       "  <thead>\n",
       "    <tr style=\"text-align: right;\">\n",
       "      <th></th>\n",
       "      <th>Adj Close</th>\n",
       "    </tr>\n",
       "    <tr>\n",
       "      <th>Date</th>\n",
       "      <th></th>\n",
       "    </tr>\n",
       "  </thead>\n",
       "  <tbody>\n",
       "    <tr>\n",
       "      <th>2020-01-02</th>\n",
       "      <td>299.638885</td>\n",
       "    </tr>\n",
       "    <tr>\n",
       "      <th>2020-01-03</th>\n",
       "      <td>296.725769</td>\n",
       "    </tr>\n",
       "    <tr>\n",
       "      <th>2020-01-06</th>\n",
       "      <td>299.090149</td>\n",
       "    </tr>\n",
       "    <tr>\n",
       "      <th>2020-01-07</th>\n",
       "      <td>297.683533</td>\n",
       "    </tr>\n",
       "    <tr>\n",
       "      <th>2020-01-08</th>\n",
       "      <td>302.472137</td>\n",
       "    </tr>\n",
       "    <tr>\n",
       "      <th>...</th>\n",
       "      <td>...</td>\n",
       "    </tr>\n",
       "    <tr>\n",
       "      <th>2020-04-27</th>\n",
       "      <td>283.170013</td>\n",
       "    </tr>\n",
       "    <tr>\n",
       "      <th>2020-04-28</th>\n",
       "      <td>278.579987</td>\n",
       "    </tr>\n",
       "    <tr>\n",
       "      <th>2020-04-29</th>\n",
       "      <td>287.730011</td>\n",
       "    </tr>\n",
       "    <tr>\n",
       "      <th>2020-04-30</th>\n",
       "      <td>293.799988</td>\n",
       "    </tr>\n",
       "    <tr>\n",
       "      <th>2020-05-01</th>\n",
       "      <td>289.070007</td>\n",
       "    </tr>\n",
       "  </tbody>\n",
       "</table>\n",
       "<p>84 rows × 1 columns</p>\n",
       "</div>"
      ],
      "text/plain": [
       "             Adj Close\n",
       "Date                  \n",
       "2020-01-02  299.638885\n",
       "2020-01-03  296.725769\n",
       "2020-01-06  299.090149\n",
       "2020-01-07  297.683533\n",
       "2020-01-08  302.472137\n",
       "...                ...\n",
       "2020-04-27  283.170013\n",
       "2020-04-28  278.579987\n",
       "2020-04-29  287.730011\n",
       "2020-04-30  293.799988\n",
       "2020-05-01  289.070007\n",
       "\n",
       "[84 rows x 1 columns]"
      ]
     },
     "execution_count": 2,
     "metadata": {},
     "output_type": "execute_result"
    }
   ],
   "source": [
    "mall_two = df[['Adj Close']]\n",
    "mall_two"
   ]
  },
  {
   "cell_type": "code",
   "execution_count": 3,
   "metadata": {},
   "outputs": [
    {
     "name": "stdout",
     "output_type": "stream",
     "text": [
      "(84, 1)\n"
     ]
    },
    {
     "data": {
      "text/plain": [
       "array([[299.6388855 ],\n",
       "       [296.72576904],\n",
       "       [299.09014893],\n",
       "       [297.68353271],\n",
       "       [302.47213745]])"
      ]
     },
     "execution_count": 3,
     "metadata": {},
     "output_type": "execute_result"
    }
   ],
   "source": [
    "mall_two = mall_two['Adj Close'].values\n",
    "mall_two = mall_two.reshape(-1, 1)\n",
    "print(mall_two.shape)\n",
    "mall_two[:5]"
   ]
  },
  {
   "cell_type": "code",
   "execution_count": 4,
   "metadata": {},
   "outputs": [
    {
     "name": "stdout",
     "output_type": "stream",
     "text": [
      "(67, 1)\n",
      "(67, 1)\n"
     ]
    }
   ],
   "source": [
    "dataset_train = np.array(mall_two[:int(df.shape[0]*0.8)])\n",
    "dataset_test = np.array(mall_two[int(df.shape[0]*0.8)-50:])\n",
    "print(dataset_train.shape)\n",
    "print(dataset_test.shape)"
   ]
  },
  {
   "cell_type": "code",
   "execution_count": 5,
   "metadata": {},
   "outputs": [
    {
     "data": {
      "text/plain": [
       "array([[0.73197392],\n",
       "       [0.70364448],\n",
       "       [0.72663757],\n",
       "       [0.71295853],\n",
       "       [0.75952669]])"
      ]
     },
     "execution_count": 5,
     "metadata": {},
     "output_type": "execute_result"
    }
   ],
   "source": [
    "from sklearn.preprocessing import MinMaxScaler\n",
    "scaler = MinMaxScaler(feature_range=(0,1))\n",
    "dataset_train = scaler.fit_transform(dataset_train)\n",
    "dataset_train[:5]"
   ]
  },
  {
   "cell_type": "code",
   "execution_count": 6,
   "metadata": {},
   "outputs": [],
   "source": [
    "def create_dataset(df):\n",
    "    x = []\n",
    "    y = []\n",
    "    for i in range(50, df.shape[0]):\n",
    "        x.append(df[i-50:i, 0])\n",
    "        y.append(df[i, 0])\n",
    "    x = np.array(x)\n",
    "    y = np.array(y)\n",
    "    return x,y"
   ]
  },
  {
   "cell_type": "code",
   "execution_count": 7,
   "metadata": {},
   "outputs": [
    {
     "data": {
      "text/plain": [
       "array([[0.73197392, 0.70364448, 0.72663757, 0.71295853, 0.75952669,\n",
       "        0.82200625, 0.8287971 , 0.89311994, 0.85159639, 0.83859608,\n",
       "        0.87643276, 0.91029234, 0.88933633, 0.90029957, 0.91514316,\n",
       "        0.9062173 , 0.8154089 , 0.90020222, 0.96471886, 0.96015918,\n",
       "        0.82084199, 0.81259545, 0.9114563 , 0.93668116, 0.97315949,\n",
       "        0.93027315, 0.94505472, 0.92618861, 1.        , 0.97734108,\n",
       "        0.97811923, 0.92025663, 0.9651851 , 0.93289873, 0.86239403,\n",
       "        0.7177865 , 0.61956609, 0.66400844, 0.47797322, 0.47641721,\n",
       "        0.72391316, 0.63162503, 0.7621315 , 0.66663432, 0.62880475,\n",
       "        0.40649627, 0.59292027, 0.49654759, 0.23203342, 0.52124864]])"
      ]
     },
     "execution_count": 7,
     "metadata": {},
     "output_type": "execute_result"
    }
   ],
   "source": [
    "x_train, y_train = create_dataset(dataset_train)\n",
    "x_train[:1]"
   ]
  },
  {
   "cell_type": "code",
   "execution_count": 8,
   "metadata": {},
   "outputs": [
    {
     "data": {
      "text/plain": [
       "array([[316.93780518, 323.572052  , 323.10317993, 308.77719116,\n",
       "        307.92919922, 318.09506226, 320.68893433, 324.44000244,\n",
       "        320.02999878, 321.54998779, 319.60998535, 327.20001221,\n",
       "        324.86999512, 324.95001221, 319.        , 323.61999512,\n",
       "        320.29998779, 313.04998779, 298.17999268, 288.07998657,\n",
       "        292.6499939 , 273.51998901, 273.35998535, 298.80999756,\n",
       "        289.32000732, 302.73999023, 292.92001343, 289.02999878,\n",
       "        266.17001343, 285.33999634, 275.42999268, 248.22999573,\n",
       "        277.97000122, 242.21000671, 252.86000061, 246.66999817,\n",
       "        244.77999878, 229.24000549, 224.36999512, 246.88000488,\n",
       "        245.52000427, 258.44000244, 247.74000549, 254.80999756,\n",
       "        254.28999329, 240.91000366, 244.92999268, 241.41000366,\n",
       "        262.47000122, 259.42999268]])"
      ]
     },
     "execution_count": 8,
     "metadata": {},
     "output_type": "execute_result"
    }
   ],
   "source": [
    "x_test, y_test = create_dataset(dataset_test)\n",
    "x_test[:1]"
   ]
  },
  {
   "cell_type": "code",
   "execution_count": 9,
   "metadata": {},
   "outputs": [],
   "source": [
    "# Reshape features for LSTM Layer\n",
    "x_train = np.reshape(x_train, (x_train.shape[0], x_train.shape[1], 1))\n",
    "x_test = np.reshape(x_test, (x_test.shape[0], x_test.shape[1], 1))"
   ]
  },
  {
   "cell_type": "markdown",
   "metadata": {},
   "source": [
    "### Building the model"
   ]
  },
  {
   "cell_type": "code",
   "execution_count": 10,
   "metadata": {},
   "outputs": [
    {
     "name": "stderr",
     "output_type": "stream",
     "text": [
      "Using TensorFlow backend.\n"
     ]
    }
   ],
   "source": [
    "from keras.models import Sequential, load_model\n",
    "from keras.layers import LSTM, Dense, Dropout\n",
    "\n",
    "model = Sequential()\n",
    "model.add(LSTM(units=96, return_sequences=True, input_shape=(x_train.shape[1], 1)))\n",
    "model.add(Dropout(0.2))\n",
    "model.add(LSTM(units=96, return_sequences=True))\n",
    "model.add(Dropout(0.2))\n",
    "model.add(LSTM(units=96, return_sequences=True))\n",
    "model.add(Dropout(0.2))\n",
    "model.add(LSTM(units=96))\n",
    "model.add(Dropout(0.2))\n",
    "model.add(Dense(units=1))"
   ]
  },
  {
   "cell_type": "code",
   "execution_count": 11,
   "metadata": {},
   "outputs": [],
   "source": [
    "model.compile(loss='mean_squared_error', optimizer='adam')"
   ]
  },
  {
   "cell_type": "code",
   "execution_count": 12,
   "metadata": {},
   "outputs": [],
   "source": [
    "import os\n",
    "if(not os.path.exists('stock_prediction.h5')):\n",
    "    model.fit(x_train, y_train, epochs=50, batch_size=32)\n",
    "    model.save('stock_prediction.h5')"
   ]
  },
  {
   "cell_type": "code",
   "execution_count": 13,
   "metadata": {},
   "outputs": [],
   "source": [
    "model = load_model('stock_prediction.h5')"
   ]
  },
  {
   "cell_type": "markdown",
   "metadata": {},
   "source": [
    "# Visualizing Results"
   ]
  },
  {
   "cell_type": "code",
   "execution_count": 14,
   "metadata": {},
   "outputs": [],
   "source": [
    "import matplotlib.pyplot as plt"
   ]
  },
  {
   "cell_type": "code",
   "execution_count": 15,
   "metadata": {},
   "outputs": [
    {
     "data": {
      "text/plain": [
       "<matplotlib.legend.Legend at 0x279ab345cc0>"
      ]
     },
     "execution_count": 15,
     "metadata": {},
     "output_type": "execute_result"
    },
    {
     "data": {
      "image/png": "[encoded data removed]",
      "text/plain": [
       "<Figure size 576x288 with 1 Axes>"
      ]
     },
     "metadata": {
      "needs_background": "light"
     },
     "output_type": "display_data"
    }
   ],
   "source": [
    "predictions = model.predict(x_test)\n",
    "predictions = scaler.inverse_transform(predictions)\n",
    "\n",
    "fig, ax = plt.subplots(figsize=(8,4))\n",
    "plt.plot(mall_two, color='red',  label=\"True Price\")\n",
    "ax.plot(range(len(y_train)+50,len(y_train)+50+len(predictions)),predictions, color='blue', label='Predicted Testing Price')\n",
    "plt.legend()"
   ]
  },
  {
   "cell_type": "code",
   "execution_count": 16,
   "metadata": {},
   "outputs": [
    {
     "data": {
      "text/plain": [
       "<matplotlib.legend.Legend at 0x279ab3fe9e8>"
      ]
     },
     "execution_count": 16,
     "metadata": {},
     "output_type": "execute_result"
    },
    {
     "data": {
      "image/png": "[encoded data removed]",
      "text/plain": [
       "<Figure size 576x288 with 1 Axes>"
      ]
     },
     "metadata": {
      "needs_background": "light"
     },
     "output_type": "display_data"
    }
   ],
   "source": [
    "y_test_scaled = scaler.inverse_transform(y_test.reshape(-1, 1))\n",
    "\n",
    "fig, ax = plt.subplots(figsize=(8,4))\n",
    "ax.plot(y_test_scaled, color='red', label='True Testing Price')\n",
    "plt.plot(predictions, color='blue', label='Predicted Testing Price')\n",
    "plt.legend()"
   ]
  },
  {
   "cell_type": "code",
   "execution_count": 17,
   "metadata": {},
   "outputs": [
    {
     "name": "stdout",
     "output_type": "stream",
     "text": [
      "[295.3626, 295.36923, 295.3763, 295.38348, 295.39044, 295.39682, 295.40274, 295.4081, 295.4126, 295.4166, 295.4199, 295.4227, 295.42502, 295.4272, 295.42883, 295.43008, 295.43155, 295.43228, 295.4333, 295.43402, 295.43466, 295.43503, 295.43542, 295.43607, 295.43643, 295.43692, 295.4371, 295.43747, 295.43768, 295.4378, 295.43808, 295.4383, 295.43866, 295.4388, 295.43903, 295.43915, 295.4393, 295.43945, 295.4395, 295.43954, 295.43958, 295.43964, 295.43967, 295.4398, 295.43988, 295.43997, 295.44003, 295.44003, 295.44016, 295.4402, 295.4402, 295.4402, 295.4402, 295.44022, 295.44022, 295.44022, 295.44022, 295.44022, 295.44022, 295.44022, 295.44022, 295.44022, 295.44022, 295.44022, 295.44022, 295.4402, 295.44022, 295.44022, 295.44022, 295.44022, 295.44022, 295.44022, 295.44022, 295.44022, 295.44022, 295.44022, 295.44022, 295.44022, 295.44022, 295.44022, 295.44022, 295.44022, 295.44022, 295.44022, 295.44022, 295.44022, 295.44022, 295.44022, 295.44022, 295.44022, 295.4402, 295.44022, 295.44022, 295.44022, 295.44022, 295.44022, 295.4402, 295.44022, 295.44022, 295.44022]\n"
     ]
    }
   ],
   "source": [
    "x = x_test[-1]\n",
    "num_timesteps = 100\n",
    "preds = []\n",
    "for i in range(num_timesteps):\n",
    "    data = np.expand_dims(x, axis=0)\n",
    "    prediction = model.predict(data)\n",
    "    prediction = scaler.inverse_transform(prediction)\n",
    "    preds.append(prediction[0][0])\n",
    "    x = np.delete(x, 0, axis=0) # delete first row\n",
    "    x = np.vstack([x, prediction]) # add prediction\n",
    "\n",
    "print(preds)"
   ]
  }
 ],
 "metadata": {
  "kernelspec": {
   "display_name": "Python 3",
   "language": "python",
   "name": "python3"
  },
  "language_info": {
   "codemirror_mode": {
    "name": "ipython",
    "version": 3
   },
   "file_extension": ".py",
   "mimetype": "text/x-python",
   "name": "python",
   "nbconvert_exporter": "python",
   "pygments_lexer": "ipython3",
   "version": "3.6.9"
  }
 },
 "nbformat": 4,
 "nbformat_minor": 2
}
